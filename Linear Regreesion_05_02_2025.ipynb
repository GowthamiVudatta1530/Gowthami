{
  "cells": [
    {
      "cell_type": "markdown",
      "metadata": {
        "id": "view-in-github",
        "colab_type": "text"
      },
      "source": [
        "<a href=\"https://colab.research.google.com/github/GowthamiVudatta1530/Gowthami/blob/DAY-1/Linear%20Regreesion_05_02_2025.ipynb\" target=\"_parent\"><img src=\"https://colab.research.google.com/assets/colab-badge.svg\" alt=\"Open In Colab\"/></a>"
      ]
    },
    {
      "cell_type": "markdown",
      "source": [
        "# Example for Linear Regression"
      ],
      "metadata": {
        "id": "xavttIkpPGCk"
      }
    },
    {
      "cell_type": "markdown",
      "source": [
        " To predict the price of a car based on how old it is."
      ],
      "metadata": {
        "id": "m-4xbjy8Tsjd"
      }
    },
    {
      "cell_type": "markdown",
      "source": [
        "We’ll assume that newer cars tend to have higher price"
      ],
      "metadata": {
        "id": "xwMzRAl5UHXM"
      }
    },
    {
      "cell_type": "code",
      "source": [
        "import pandas as pd\n",
        "import numpy as np\n",
        "import matplotlib.pyplot as plt\n",
        "from sklearn.model_selection import train_test_split\n",
        "from sklearn.linear_model import LinearRegression\n",
        "from sklearn.metrics import mean_squared_error, r2_score\n"
      ],
      "metadata": {
        "id": "ukO_dPsQUJIv"
      },
      "execution_count": 9,
      "outputs": []
    },
    {
      "cell_type": "code",
      "source": [
        "# Set seed for reproducibility\n",
        "np.random.seed(42)\n",
        "\n",
        "# Generate synthetic data (Car Age vs Price)\n",
        "car_age = np.random.randint(1, 15, 100)  # Car age between 1 to 15 years\n",
        "price = 25000 - (car_age * 1000) + np.random.randn(100) * 5000  # Price decreases with age + some noise\n",
        "\n",
        "# Create a DataFrame\n",
        "df = pd.DataFrame({'Car_Age': car_age, 'Price': price})\n",
        "\n",
        "# Display first few rows\n",
        "print(df.head())\n"
      ],
      "metadata": {
        "id": "kUoWZPCsUOL6",
        "outputId": "cc79142d-bc11-48d5-c99f-d81ff4c519e2",
        "colab": {
          "base_uri": "https://localhost:8080/"
        }
      },
      "execution_count": 11,
      "outputs": [
        {
          "output_type": "stream",
          "name": "stdout",
          "text": [
            "   Car_Age         Price\n",
            "0        7  12954.573286\n",
            "1        4  13083.528932\n",
            "2       13  15868.502084\n",
            "3       11  11309.291692\n",
            "4        8  10266.609513\n"
          ]
        }
      ]
    },
    {
      "cell_type": "markdown",
      "source": [
        "**Independent Variable (X):**'Age of the car"
      ],
      "metadata": {
        "id": "z9vQqXCpUZ8M"
      }
    },
    {
      "cell_type": "markdown",
      "source": [
        "**Dependent Variable (y):**Price of the car"
      ],
      "metadata": {
        "id": "cMec-jYcUnZD"
      }
    },
    {
      "cell_type": "markdown",
      "source": [
        "## Model"
      ],
      "metadata": {
        "id": "iSaO26eGU9fi"
      }
    },
    {
      "cell_type": "markdown",
      "source": [
        "Price=β\n",
        "0\n",
        "​\n",
        " +β\n",
        "1\n",
        "​\n",
        " ×(Car Age)"
      ],
      "metadata": {
        "id": "ykWF-LagVNKl"
      }
    },
    {
      "cell_type": "code",
      "source": [
        "# Independent Variable (X) and Dependent Variable (y)\n",
        "X = df[['Car_Age']]  # Car Age as the feature\n",
        "y = df['Price']  # Car Price as the target variable\n",
        "\n",
        "# Split data into training (80%) and testing (20%)\n",
        "X_train, X_test, y_train, y_test = train_test_split(X, y, test_size=0.2, random_state=42)\n"
      ],
      "metadata": {
        "id": "WHvT3IpuUw34"
      },
      "execution_count": 12,
      "outputs": []
    },
    {
      "cell_type": "code",
      "source": [
        "# Create and train the linear regression model\n",
        "model = LinearRegression()\n",
        "model.fit(X_train, y_train)\n",
        "\n",
        "# Output the model's coefficients\n",
        "print(f\"Intercept: {model.intercept_}\")\n",
        "print(f\"Coefficient: {model.coef_[0]}\")\n"
      ],
      "metadata": {
        "id": "LmOPl6s0VUam",
        "outputId": "abdd7afb-f8c2-49d3-88b0-1ca35c21ec05",
        "colab": {
          "base_uri": "https://localhost:8080/"
        }
      },
      "execution_count": 13,
      "outputs": [
        {
          "output_type": "stream",
          "name": "stdout",
          "text": [
            "Intercept: 24347.01478972475\n",
            "Coefficient: -937.0963032908008\n"
          ]
        }
      ]
    },
    {
      "cell_type": "markdown",
      "source": [
        "Intercept: This is the starting price when the car age is 0 (hypothetically, a brand new car).\n",
        "Coefficient: This represents how much the price decreases for each additional year of the car’s age."
      ],
      "metadata": {
        "id": "8_GUipp0VlHQ"
      }
    },
    {
      "cell_type": "code",
      "source": [
        "# Predict car prices for the test data\n",
        "y_pred = model.predict(X_test)\n",
        "\n",
        "# Display actual vs predicted prices\n",
        "df_results = pd.DataFrame({'Actual': y_test, 'Predicted': y_pred})\n",
        "print(df_results.head())\n"
      ],
      "metadata": {
        "id": "uXHh_N6QVbuS",
        "outputId": "7eebd532-801d-48a7-c5e7-952681ffaee8",
        "colab": {
          "base_uri": "https://localhost:8080/"
        }
      },
      "execution_count": 14,
      "outputs": [
        {
          "output_type": "stream",
          "name": "stdout",
          "text": [
            "          Actual     Predicted\n",
            "83  17920.078595  11227.666544\n",
            "53  16540.236646  17787.340667\n",
            "70   9704.088488  13101.859150\n",
            "45  23572.564479  21535.725880\n",
            "44  12285.584350  11227.666544\n"
          ]
        }
      ]
    },
    {
      "cell_type": "code",
      "source": [
        "# Calculate Mean Squared Error (MSE) and R-squared score\n",
        "mse = mean_squared_error(y_test, y_pred)\n",
        "r2 = r2_score(y_test, y_pred)\n",
        "\n",
        "print(f\"Mean Squared Error (MSE): {mse}\")\n",
        "print(f\"R-squared (R²): {r2}\")\n"
      ],
      "metadata": {
        "id": "GSqgrJT9VyxM",
        "outputId": "79d2a64e-c795-4f79-e12a-2c16fd05c241",
        "colab": {
          "base_uri": "https://localhost:8080/"
        }
      },
      "execution_count": 15,
      "outputs": [
        {
          "output_type": "stream",
          "name": "stdout",
          "text": [
            "Mean Squared Error (MSE): 18168442.691186145\n",
            "R-squared (R²): 0.5137330792154519\n"
          ]
        }
      ]
    },
    {
      "cell_type": "code",
      "source": [
        "# Plotting the regression line\n",
        "plt.scatter(X_test, y_test, color=\"blue\", label=\"Actual Data\")\n",
        "plt.plot(X_test, y_pred, color=\"red\", linewidth=2, label=\"Regression Line\")\n",
        "plt.xlabel(\"Car Age (years)\")\n",
        "plt.ylabel(\"Car Price ($)\")\n",
        "plt.title(\"Linear Regression: Car Age vs Price\")\n",
        "plt.legend()\n",
        "plt.show()\n"
      ],
      "metadata": {
        "id": "jkKKfUvOUUSP",
        "outputId": "c2206e42-d520-4149-8e54-ea06a910096c",
        "colab": {
          "base_uri": "https://localhost:8080/",
          "height": 472
        }
      },
      "execution_count": 16,
      "outputs": [
        {
          "output_type": "display_data",
          "data": {
            "text/plain": [
              "<Figure size 640x480 with 1 Axes>"
            ],
            "image/png": "[encoded data removed]"
          },
          "metadata": {}
        }
      ]
    },
    {
      "cell_type": "markdown",
      "source": [
        "**Regression Equation:** ***Price=β 0​+β 1​×(Car Age)***\n",
        "Where,\n",
        " *𝛽 0 is the intercept (price of a new car)\n",
        " *𝛽 1 is the coefficient (how much the price decreases with each year of age)"
      ],
      "metadata": {
        "id": "T7AlvCuhXFJ7"
      }
    },
    {
      "cell_type": "markdown",
      "source": [
        "**R² Value:** A higher R² value indicates that the model does a good job of explaining the variation in car prices based on age."
      ],
      "metadata": {
        "id": "7LBcJpmoYELw"
      }
    },
    {
      "cell_type": "markdown",
      "source": [
        "**MSE (Mean Squared Error) :**helps measure the accuracy of predictions (lower is better)"
      ],
      "metadata": {
        "id": "YeVtJlwcW9gJ"
      }
    },
    {
      "cell_type": "markdown",
      "source": [
        "**For example:**The coefficient of the model is -1000. This means that for every year older the car gets, its price decreases by $1000."
      ],
      "metadata": {
        "id": "eoKTtzajWiGH"
      }
    }
  ],
  "metadata": {
    "colab": {
      "name": "Welcome To Colab",
      "provenance": [],
      "include_colab_link": true
    },
    "kernelspec": {
      "display_name": "Python 3",
      "name": "python3"
    }
  },
  "nbformat": 4,
  "nbformat_minor": 0
}